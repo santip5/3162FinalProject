{
 "cells": [
  {
   "cell_type": "markdown",
   "id": "3b2b8179-7a34-4aff-b819-cabec0ae974f",
   "metadata": {},
   "source": [
    "# Introduction"
   ]
  },
  {
   "cell_type": "markdown",
   "id": "853c7a40",
   "metadata": {},
   "source": [
    "In today's fast-moving music industry, where streaming platforms determine much of a song's success, understanding what makes a song popular has become more important than ever. Our final project aims to take a data driven approach to analyze different factors that influence a song's popularity and aims to build a model that can predict what makes a song popular and why. "
   ]
  },
  {
   "cell_type": "markdown",
   "id": "a4e8c4e3",
   "metadata": {},
   "source": [
    "# About the Data"
   ]
  },
  {
   "cell_type": "markdown",
   "id": "4245454e",
   "metadata": {},
   "source": [
    "We will be using a dataset from Kaggle that contains over 13,000 songs along with several parameters and measurable features. Each song entry includes both quantitative features, such as acousticness, danceability, energy, instrumentalness, loudness, speechiness, tempo, and valence, as well as metadata like genre, artist name, and release year. The target variable in this dataset is the song's popoularity score that represents how well the song performed.\n",
    "\n",
    "We believed this dataset was a great set to use for regression modeling. Due to the mix of numerical and categorical variables, we will be using 3 different regression models (Linear, Random Forest, Gradient Boosting) to evaluate the different performances. We plan to test and compare these models to see which best captures the relationship between the different parameters and listener engagement."
   ]
  },
  {
   "cell_type": "markdown",
   "id": "1c9389b0",
   "metadata": {},
   "source": [
    "# Our Goal"
   ]
  },
  {
   "cell_type": "markdown",
   "id": "8b38b0de",
   "metadata": {},
   "source": [
    "Our goal is to do more than build a model, we want more insight into song's popularity. We aim to answer which features matter most? Are there any unexpected patterns in what makes a song rise in popularity? Which genres tend to produce the most popular songs? \n",
    "\n",
    "The ultimate goal though is to not just predict song success, but to uncover any unexpected patterns and translate those into meaningful insights. This data could be valuable for several different industries and fields, increasing more hit songs. We hope to gain a deeper understanding of popularity, trends, and what shapes the music we all know and listen to today."
   ]
  },
  {
   "cell_type": "markdown",
   "id": "964e8474",
   "metadata": {},
   "source": []
  },
  {
   "cell_type": "markdown",
   "id": "7d244d3f",
   "metadata": {},
   "source": []
  }
 ],
 "metadata": {
  "kernelspec": {
   "display_name": "Python [conda env:base] *",
   "language": "python",
   "name": "conda-base-py"
  },
  "language_info": {
   "codemirror_mode": {
    "name": "ipython",
    "version": 3
   },
   "file_extension": ".py",
   "mimetype": "text/x-python",
   "name": "python",
   "nbconvert_exporter": "python",
   "pygments_lexer": "ipython3",
   "version": "3.12.7"
  }
 },
 "nbformat": 4,
 "nbformat_minor": 5
}
